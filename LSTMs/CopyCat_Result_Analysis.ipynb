{
  "nbformat": 4,
  "nbformat_minor": 0,
  "metadata": {
    "colab": {
      "name": "CopyCat_Result_Analysis.ipynb",
      "provenance": [],
      "collapsed_sections": []
    },
    "kernelspec": {
      "name": "python3",
      "display_name": "Python 3"
    }
  },
  "cells": [
    {
      "cell_type": "code",
      "metadata": {
        "id": "uptM9jKvgE0t",
        "colab_type": "code",
        "colab": {
          "base_uri": "https://localhost:8080/",
          "height": 51
        },
        "outputId": "f7ad69cc-0fed-4f60-ff78-ea550859f06e"
      },
      "source": [
        "from google.colab import drive\n",
        "drive.mount('/content/drive')\n",
        "%cd /content/drive/My Drive/LSTM/"
      ],
      "execution_count": 1,
      "outputs": [
        {
          "output_type": "stream",
          "text": [
            "Drive already mounted at /content/drive; to attempt to forcibly remount, call drive.mount(\"/content/drive\", force_remount=True).\n",
            "/content/drive/My Drive/LSTM\n"
          ],
          "name": "stdout"
        }
      ]
    },
    {
      "cell_type": "code",
      "metadata": {
        "id": "C-eMo8CFgLes",
        "colab_type": "code",
        "colab": {}
      },
      "source": [
        "def display_dp(dp):\n",
        "    for line in dp:\n",
        "        print(str(line) + \"\\n\")\n",
        "\n",
        "def get_string_alignment(sent_1, sent_2):\n",
        "    penalty_space = 1 ##insertion/deletion err weight\n",
        "    penalty_sub = 1 ##subsititution err weight\n",
        "\n",
        "    sentence_1_arr = sent_1.split(\" \")\n",
        "    sentence_2_arr = sent_2.split(\" \")\n",
        "\n",
        "    num_sent_1 = len(sentence_1_arr) + 1\n",
        "    num_sent_2 = len(sentence_2_arr) + 1\n",
        "\n",
        "    dp_matrix = [[0 for i in range(num_sent_2)] for j in range(num_sent_1)]\n",
        "\n",
        "    for row in range(0, num_sent_1):\n",
        "        for col in range(0, num_sent_2):\n",
        "            if row == 0 or col == 0:\n",
        "                dp_matrix[row][col] = (row + col) * penalty_space\n",
        "            else:\n",
        "                if sentence_1_arr[row-1] ==  sentence_2_arr[col-1]:\n",
        "                    dp_matrix[row][col] = min(dp_matrix[row-1][col-1], penalty_space + min(dp_matrix[row-1][col], dp_matrix[row][col-1]))\n",
        "                else:\n",
        "                    dp_matrix[row][col] = min(penalty_sub + dp_matrix[row-1][col-1], penalty_space + min(dp_matrix[row-1][col], dp_matrix[row][col-1]))\n",
        "\n",
        "    # display_dp(dp_matrix)\n",
        "\n",
        "    aligned_sent_1 = []\n",
        "    aligned_sent_2 = []\n",
        "    row = num_sent_1 - 1\n",
        "    col = num_sent_2 - 1\n",
        "\n",
        "    while row != 0 and col != 0:\n",
        "        if sentence_1_arr[row - 1] == sentence_2_arr[col - 1] and dp_matrix[row][col] == dp_matrix[row - 1][col - 1]:\n",
        "            aligned_sent_1.insert(0, sentence_1_arr[row -1])\n",
        "            aligned_sent_2.insert(0, sentence_2_arr[col - 1])\n",
        "            row -= 1\n",
        "            col -= 1\n",
        "        elif sentence_1_arr[row - 1] != sentence_2_arr[col - 1] and  dp_matrix[row][col] == (dp_matrix[row - 1][col - 1] + penalty_sub):\n",
        "            aligned_sent_1.insert(0, sentence_1_arr[row - 1])\n",
        "            aligned_sent_2.insert(0, sentence_2_arr[col - 1])\n",
        "            row -= 1\n",
        "            col -= 1\n",
        "        elif dp_matrix[row][col] == (dp_matrix[row][col - 1] + penalty_space):\n",
        "            aligned_sent_1.insert(0, \"_\")\n",
        "            aligned_sent_2.insert(0, sentence_2_arr[col - 1])\n",
        "            col -= 1\n",
        "        elif dp_matrix[row][col] == (dp_matrix[row - 1][col] + penalty_space):\n",
        "            aligned_sent_1.insert(0, sentence_1_arr[row - 1])\n",
        "            aligned_sent_2.insert(0, \"_\")\n",
        "            row -= 1\n",
        "\n",
        "    while row > 0 or col > 0:\n",
        "        if row > 0:\n",
        "            aligned_sent_1.insert(0, sentence_1_arr[row - 1])\n",
        "            aligned_sent_2.insert(0, \"_\")\n",
        "            row -= 1\n",
        "        else:\n",
        "            aligned_sent_1.insert(0, \"_\")\n",
        "            aligned_sent_2.insert(0, sentence_2_arr[col - 1])\n",
        "            col -= 1\n",
        "    \n",
        "    return aligned_sent_1, aligned_sent_2"
      ],
      "execution_count": 0,
      "outputs": []
    },
    {
      "cell_type": "code",
      "metadata": {
        "id": "5EWIsZeCKni1",
        "colab_type": "code",
        "colab": {
          "base_uri": "https://localhost:8080/",
          "height": 362
        },
        "outputId": "7d797968-7d68-4c90-883c-d61885729ec6"
      },
      "source": [
        "from sklearn.metrics import confusion_matrix, ConfusionMatrixDisplay\n",
        "\n",
        "user = \"Ravi\"\n",
        "\n",
        "result_file = \"results/\" + user + \"/\" + \"results.txt\"\n",
        "res = open(result_file, 'r')\n",
        "\n",
        "prediction = \"\"\n",
        "ground_truth = \"\"\n",
        "\n",
        "prediction_words = []\n",
        "gt_words = []\n",
        "vocab = set()\n",
        "\n",
        "H,D,S,I,N = 0,0,0,0,0\n",
        "\n",
        "sen_corr, sen_tot = 0,0\n",
        "\n",
        "for i in res:\n",
        "    if i.startswith(\"Predicted\"):\n",
        "        prediction = i.split(\":  \")[1]\n",
        "    if i.startswith(\"True\"):\n",
        "        ground_truth = i.split(\":  \")[1]\n",
        "        pred_align, gt_align = get_string_alignment(prediction, ground_truth)\n",
        "        \n",
        "        if prediction == ground_truth:\n",
        "            sen_corr += 1            \n",
        "        sen_tot += 1\n",
        "\n",
        "        for index in range(len(pred_align)):\n",
        "            if pred_align[index] != \"sil0\" and pred_align[index] != \"sil1\\n\":\n",
        "                N += 1\n",
        "                if pred_align[index] == gt_align[index]:\n",
        "                    H += 1\n",
        "                    prediction_words.append(pred_align[index])\n",
        "                    gt_words.append(gt_align[index])\n",
        "                    vocab.add(pred_align[index])\n",
        "                elif pred_align[index] == \"_\":\n",
        "                    D += 1\n",
        "                elif gt_align[index] == \"_\":\n",
        "                    I += 1\n",
        "                else:\n",
        "                    prediction_words.append(pred_align[index])\n",
        "                    gt_words.append(gt_align[index])\n",
        "                    vocab.add(pred_align[index])\n",
        "                    vocab.add(gt_words[index])\n",
        "                    S += 1\n",
        "\n",
        "vocab = [i for i in vocab]\n",
        "vocab.sort()\n",
        "\n",
        "print(\"Word Correctness = \" + str(H/N) + \" Deletion = \" + str(D/N) + \" Substitution = \" + str(S/N) + \" Insertion = \" + str(I/N))\n",
        "print(\"Sentence Correctness = \" + str(sen_corr/sen_tot))\n",
        "\n",
        "matrix = ConfusionMatrixDisplay(confusion_matrix(gt_words, prediction_words, labels=vocab), vocab)\n",
        "matrix.plot(cmap='Blues', xticks_rotation='vertical')"
      ],
      "execution_count": 3,
      "outputs": [
        {
          "output_type": "stream",
          "text": [
            "Word Correctness = 0.7330508474576272 Deletion = 0.06779661016949153 Substitution = 0.18220338983050846 Insertion = 0.01694915254237288\n",
            "Sentence Correctness = 0.44642857142857145\n"
          ],
          "name": "stdout"
        },
        {
          "output_type": "execute_result",
          "data": {
            "text/plain": [
              "<sklearn.metrics._plot.confusion_matrix.ConfusionMatrixDisplay at 0x7efffcf06550>"
            ]
          },
          "metadata": {
            "tags": []
          },
          "execution_count": 3
        },
        {
          "output_type": "display_data",
          "data": {
            "image/png": "[encoded data removed]",
            "text/plain": [
              "<Figure size 432x288 with 2 Axes>"
            ]
          },
          "metadata": {
            "tags": [],
            "needs_background": "light"
          }
        }
      ]
    }
  ]
}