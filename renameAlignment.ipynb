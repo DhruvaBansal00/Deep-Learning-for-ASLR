{
  "nbformat": 4,
  "nbformat_minor": 0,
  "metadata": {
    "colab": {
      "name": "renameAlignment.ipynb",
      "provenance": [],
      "collapsed_sections": [],
      "authorship_tag": "ABX9TyMr07ClGhvdJNI3WowdC3a5",
      "include_colab_link": true
    },
    "kernelspec": {
      "name": "python3",
      "display_name": "Python 3"
    }
  },
  "cells": [
    {
      "cell_type": "markdown",
      "metadata": {
        "id": "view-in-github",
        "colab_type": "text"
      },
      "source": [
        "<a href=\"https://colab.research.google.com/github/DhruvaBansal00/Deep-Learning-for-ASLR/blob/master/renameAlignment.ipynb\" target=\"_parent\"><img src=\"https://colab.research.google.com/assets/colab-badge.svg\" alt=\"Open In Colab\"/></a>"
      ]
    },
    {
      "cell_type": "code",
      "metadata": {
        "id": "_XCkvou3uG2X",
        "colab_type": "code",
        "colab": {
          "base_uri": "https://localhost:8080/",
          "height": 68
        },
        "outputId": "39476f96-6d51-4702-b7f1-e76aebd08795"
      },
      "source": [
        "from google.colab import drive\n",
        "drive.mount('/content/drive', force_remount=True)\n",
        "%cd drive/My Drive/Deep-Learning-for-ASLR/data/alignment\n",
        "!pwd"
      ],
      "execution_count": 1,
      "outputs": [
        {
          "output_type": "stream",
          "text": [
            "Mounted at /content/drive\n",
            "/content/drive/My Drive/Deep-Learning-for-ASLR/data/alignment\n",
            "/content/drive/My Drive/Deep-Learning-for-ASLR/data/alignment\n"
          ],
          "name": "stdout"
        }
      ]
    },
    {
      "cell_type": "code",
      "metadata": {
        "id": "6zTZ4RNxu9Mj",
        "colab_type": "code",
        "colab": {}
      },
      "source": [
        "import os\n",
        "import sys\n",
        "import glob\n",
        "import tqdm\n",
        "\n",
        "users = ['David', 'Matthew', 'Ishan', 'Kanksha', 'Thad', 'Prerna', 'Linda']\n",
        "\n",
        "def renameFolders():\n",
        "    folds = glob.glob(\"/content/drive/My Drive/Deep-Learning-for-ASLR/data/alignment/*/\")\n",
        "    for fold in folds:\n",
        "        curr_alignment = glob.glob(os.path.join(fold, \"*.mlf\"))[0]\n",
        "        curr_alignment_file = \"\".join(open(curr_alignment, 'r').readlines())\n",
        "        curr_user = \"\"\n",
        "        for user in users:\n",
        "            if user not in curr_alignment_file:\n",
        "                curr_user = user\n",
        "        fold_array = fold.split('/')\n",
        "        fold_array[-2] = curr_user\n",
        "        new_fold = \"/\".join(fold_array)\n",
        "        os.rename(fold, new_fold)\n",
        "renameFolders()"
      ],
      "execution_count": 24,
      "outputs": []
    }
  ]
}